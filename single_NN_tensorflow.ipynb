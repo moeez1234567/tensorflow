{
 "cells": [
  {
   "cell_type": "markdown",
   "id": "f5139cb8",
   "metadata": {},
   "source": [
    "SIMPLE NEURAL NETWORK BUILD IN TENSORFLOW"
   ]
  },
  {
   "cell_type": "code",
   "execution_count": 1,
   "id": "fc252c09",
   "metadata": {},
   "outputs": [],
   "source": [
    "import tensorflow as tf # main library for building the neural network\n",
    "import pandas as pd # for data manuclation\n",
    "from sklearn.model_selection import train_test_split # basic machine learning library sklearn \n",
    "from sklearn.preprocessing import StandardScaler\n",
    "import seaborn as sb # it isused for load the datasets"
   ]
  },
  {
   "cell_type": "code",
   "execution_count": 2,
   "id": "13bac2b9",
   "metadata": {},
   "outputs": [],
   "source": [
    "# remove warnings while creating neural network\n",
    "import warnings\n",
    "warnings.filterwarnings('ignore')"
   ]
  },
  {
   "cell_type": "markdown",
   "id": "0920dad1",
   "metadata": {},
   "source": [
    "LOAD THE DATASET"
   ]
  },
  {
   "cell_type": "code",
   "execution_count": 3,
   "id": "bc27269d",
   "metadata": {},
   "outputs": [],
   "source": [
    "# load the taitanic dataset\n",
    "\n",
    "dataset = sb.load_dataset(\"titanic\")"
   ]
  },
  {
   "cell_type": "code",
   "execution_count": 4,
   "id": "eb0ac226",
   "metadata": {},
   "outputs": [
    {
     "name": "stdout",
     "output_type": "stream",
     "text": [
      "     survived  pclass     sex   age  sibsp  parch     fare embarked   class  \\\n",
      "0           0       3    male  22.0      1      0   7.2500        S   Third   \n",
      "1           1       1  female  38.0      1      0  71.2833        C   First   \n",
      "2           1       3  female  26.0      0      0   7.9250        S   Third   \n",
      "3           1       1  female  35.0      1      0  53.1000        S   First   \n",
      "4           0       3    male  35.0      0      0   8.0500        S   Third   \n",
      "..        ...     ...     ...   ...    ...    ...      ...      ...     ...   \n",
      "886         0       2    male  27.0      0      0  13.0000        S  Second   \n",
      "887         1       1  female  19.0      0      0  30.0000        S   First   \n",
      "888         0       3  female   NaN      1      2  23.4500        S   Third   \n",
      "889         1       1    male  26.0      0      0  30.0000        C   First   \n",
      "890         0       3    male  32.0      0      0   7.7500        Q   Third   \n",
      "\n",
      "       who  adult_male deck  embark_town alive  alone  \n",
      "0      man        True  NaN  Southampton    no  False  \n",
      "1    woman       False    C    Cherbourg   yes  False  \n",
      "2    woman       False  NaN  Southampton   yes   True  \n",
      "3    woman       False    C  Southampton   yes  False  \n",
      "4      man        True  NaN  Southampton    no   True  \n",
      "..     ...         ...  ...          ...   ...    ...  \n",
      "886    man        True  NaN  Southampton    no   True  \n",
      "887  woman       False    B  Southampton   yes   True  \n",
      "888  woman       False  NaN  Southampton    no  False  \n",
      "889    man        True    C    Cherbourg   yes   True  \n",
      "890    man        True  NaN   Queenstown    no   True  \n",
      "\n",
      "[891 rows x 15 columns]\n"
     ]
    }
   ],
   "source": [
    "print(dataset)"
   ]
  },
  {
   "cell_type": "markdown",
   "id": "cfdc3728",
   "metadata": {},
   "source": [
    "DATA PREPROCESSING"
   ]
  },
  {
   "cell_type": "code",
   "execution_count": 5,
   "id": "50d59160",
   "metadata": {},
   "outputs": [],
   "source": [
    "# make a function to check where the age and the embarked are not present\n",
    "def check_data(d):\n",
    "    data = d\n",
    "    for i in data:\n",
    "        if i != \"age\" and \"embarked\":\n",
    "            print(\"there are some data in which age and embarked are not represent\") # this function i made without the gpt to insure i need to dropout some thing  "
   ]
  },
  {
   "cell_type": "code",
   "execution_count": 6,
   "id": "f03466b8",
   "metadata": {},
   "outputs": [
    {
     "name": "stdout",
     "output_type": "stream",
     "text": [
      "there are some data in which age and embarked are not represent\n",
      "there are some data in which age and embarked are not represent\n",
      "there are some data in which age and embarked are not represent\n",
      "there are some data in which age and embarked are not represent\n",
      "there are some data in which age and embarked are not represent\n",
      "there are some data in which age and embarked are not represent\n",
      "there are some data in which age and embarked are not represent\n",
      "there are some data in which age and embarked are not represent\n",
      "there are some data in which age and embarked are not represent\n",
      "there are some data in which age and embarked are not represent\n",
      "there are some data in which age and embarked are not represent\n",
      "there are some data in which age and embarked are not represent\n",
      "there are some data in which age and embarked are not represent\n",
      "there are some data in which age and embarked are not represent\n",
      "None\n"
     ]
    }
   ],
   "source": [
    "ck = check_data(dataset)\n",
    "print(ck)"
   ]
  },
  {
   "cell_type": "code",
   "execution_count": 7,
   "id": "b1ecf38b",
   "metadata": {},
   "outputs": [
    {
     "name": "stdout",
     "output_type": "stream",
     "text": [
      "     survived  pclass     sex   age  sibsp  parch     fare embarked   class  \\\n",
      "0           0       3    male  22.0      1      0   7.2500        S   Third   \n",
      "1           1       1  female  38.0      1      0  71.2833        C   First   \n",
      "2           1       3  female  26.0      0      0   7.9250        S   Third   \n",
      "3           1       1  female  35.0      1      0  53.1000        S   First   \n",
      "4           0       3    male  35.0      0      0   8.0500        S   Third   \n",
      "..        ...     ...     ...   ...    ...    ...      ...      ...     ...   \n",
      "886         0       2    male  27.0      0      0  13.0000        S  Second   \n",
      "887         1       1  female  19.0      0      0  30.0000        S   First   \n",
      "888         0       3  female   NaN      1      2  23.4500        S   Third   \n",
      "889         1       1    male  26.0      0      0  30.0000        C   First   \n",
      "890         0       3    male  32.0      0      0   7.7500        Q   Third   \n",
      "\n",
      "       who  adult_male deck  embark_town alive  alone  \n",
      "0      man        True  NaN  Southampton    no  False  \n",
      "1    woman       False    C    Cherbourg   yes  False  \n",
      "2    woman       False  NaN  Southampton   yes   True  \n",
      "3    woman       False    C  Southampton   yes  False  \n",
      "4      man        True  NaN  Southampton    no   True  \n",
      "..     ...         ...  ...          ...   ...    ...  \n",
      "886    man        True  NaN  Southampton    no   True  \n",
      "887  woman       False    B  Southampton   yes   True  \n",
      "888  woman       False  NaN  Southampton    no  False  \n",
      "889    man        True    C    Cherbourg   yes   True  \n",
      "890    man        True  NaN   Queenstown    no   True  \n",
      "\n",
      "[891 rows x 15 columns]\n"
     ]
    }
   ],
   "source": [
    "print(dataset)"
   ]
  },
  {
   "cell_type": "code",
   "execution_count": 8,
   "id": "4b5c84a8",
   "metadata": {},
   "outputs": [],
   "source": [
    "# droping rows in which age and embarked are not represent\n",
    "dataset.dropna(subset=['age', 'embarked'], inplace = True)\n"
   ]
  },
  {
   "cell_type": "code",
   "execution_count": 9,
   "id": "8a5fb09b",
   "metadata": {},
   "outputs": [
    {
     "name": "stdout",
     "output_type": "stream",
     "text": [
      "712\n"
     ]
    }
   ],
   "source": [
    "print(len(dataset))"
   ]
  },
  {
   "cell_type": "code",
   "execution_count": 10,
   "id": "38facbb9",
   "metadata": {},
   "outputs": [
    {
     "name": "stdout",
     "output_type": "stream",
     "text": [
      "     survived  pclass   age  sibsp  parch     fare  adult_male  embark_town  \\\n",
      "0           0       3  22.0      1      0   7.2500        True  Southampton   \n",
      "1           1       1  38.0      1      0  71.2833       False    Cherbourg   \n",
      "2           1       3  26.0      0      0   7.9250       False  Southampton   \n",
      "3           1       1  35.0      1      0  53.1000       False  Southampton   \n",
      "4           0       3  35.0      0      0   8.0500        True  Southampton   \n",
      "..        ...     ...   ...    ...    ...      ...         ...          ...   \n",
      "885         0       3  39.0      0      5  29.1250       False   Queenstown   \n",
      "886         0       2  27.0      0      0  13.0000        True  Southampton   \n",
      "887         1       1  19.0      0      0  30.0000       False  Southampton   \n",
      "889         1       1  26.0      0      0  30.0000        True    Cherbourg   \n",
      "890         0       3  32.0      0      0   7.7500        True   Queenstown   \n",
      "\n",
      "    alive  alone  ...  class_Second  class_Third  who_man  who_woman  deck_B  \\\n",
      "0      no  False  ...         False         True     True      False   False   \n",
      "1     yes  False  ...         False        False    False       True   False   \n",
      "2     yes   True  ...         False         True    False       True   False   \n",
      "3     yes  False  ...         False        False    False       True   False   \n",
      "4      no   True  ...         False         True     True      False   False   \n",
      "..    ...    ...  ...           ...          ...      ...        ...     ...   \n",
      "885    no  False  ...         False         True    False       True   False   \n",
      "886    no   True  ...          True        False     True      False   False   \n",
      "887   yes   True  ...         False        False    False       True    True   \n",
      "889   yes   True  ...         False        False     True      False   False   \n",
      "890    no   True  ...         False         True     True      False   False   \n",
      "\n",
      "     deck_C  deck_D  deck_E  deck_F  deck_G  \n",
      "0     False   False   False   False   False  \n",
      "1      True   False   False   False   False  \n",
      "2     False   False   False   False   False  \n",
      "3      True   False   False   False   False  \n",
      "4     False   False   False   False   False  \n",
      "..      ...     ...     ...     ...     ...  \n",
      "885   False   False   False   False   False  \n",
      "886   False   False   False   False   False  \n",
      "887   False   False   False   False   False  \n",
      "889    True   False   False   False   False  \n",
      "890   False   False   False   False   False  \n",
      "\n",
      "[712 rows x 23 columns]\n"
     ]
    }
   ],
   "source": [
    "# Convert categorical variables into the dummy variables\n",
    "titanic = pd.get_dummies(dataset, columns=['sex', 'embarked', 'class','who', 'deck'], drop_first=True)\n",
    "print(titanic)\n"
   ]
  },
  {
   "cell_type": "code",
   "execution_count": 11,
   "id": "fa6e61fd",
   "metadata": {},
   "outputs": [],
   "source": [
    "#selecting features and columns\n",
    "X = titanic.drop(['survived', 'alive', 'embark_town', 'adult_male', 'alone'], axis=1)\n",
    "y = titanic['survived']"
   ]
  },
  {
   "cell_type": "code",
   "execution_count": 12,
   "id": "670dae5f",
   "metadata": {},
   "outputs": [
    {
     "name": "stdout",
     "output_type": "stream",
     "text": [
      "     pclass   age  sibsp  parch     fare  sex_male  embarked_Q  embarked_S  \\\n",
      "0         3  22.0      1      0   7.2500      True       False        True   \n",
      "1         1  38.0      1      0  71.2833     False       False       False   \n",
      "2         3  26.0      0      0   7.9250     False       False        True   \n",
      "3         1  35.0      1      0  53.1000     False       False        True   \n",
      "4         3  35.0      0      0   8.0500      True       False        True   \n",
      "..      ...   ...    ...    ...      ...       ...         ...         ...   \n",
      "885       3  39.0      0      5  29.1250     False        True       False   \n",
      "886       2  27.0      0      0  13.0000      True       False        True   \n",
      "887       1  19.0      0      0  30.0000     False       False        True   \n",
      "889       1  26.0      0      0  30.0000      True       False       False   \n",
      "890       3  32.0      0      0   7.7500      True        True       False   \n",
      "\n",
      "     class_Second  class_Third  who_man  who_woman  deck_B  deck_C  deck_D  \\\n",
      "0           False         True     True      False   False   False   False   \n",
      "1           False        False    False       True   False    True   False   \n",
      "2           False         True    False       True   False   False   False   \n",
      "3           False        False    False       True   False    True   False   \n",
      "4           False         True     True      False   False   False   False   \n",
      "..            ...          ...      ...        ...     ...     ...     ...   \n",
      "885         False         True    False       True   False   False   False   \n",
      "886          True        False     True      False   False   False   False   \n",
      "887         False        False    False       True    True   False   False   \n",
      "889         False        False     True      False   False    True   False   \n",
      "890         False         True     True      False   False   False   False   \n",
      "\n",
      "     deck_E  deck_F  deck_G  \n",
      "0     False   False   False  \n",
      "1     False   False   False  \n",
      "2     False   False   False  \n",
      "3     False   False   False  \n",
      "4     False   False   False  \n",
      "..      ...     ...     ...  \n",
      "885   False   False   False  \n",
      "886   False   False   False  \n",
      "887   False   False   False  \n",
      "889   False   False   False  \n",
      "890   False   False   False  \n",
      "\n",
      "[712 rows x 18 columns]\n"
     ]
    }
   ],
   "source": [
    "print(X)"
   ]
  },
  {
   "cell_type": "code",
   "execution_count": 13,
   "id": "d6a46502",
   "metadata": {},
   "outputs": [
    {
     "name": "stdout",
     "output_type": "stream",
     "text": [
      "0      0\n",
      "1      1\n",
      "2      1\n",
      "3      1\n",
      "4      0\n",
      "      ..\n",
      "885    0\n",
      "886    0\n",
      "887    1\n",
      "889    1\n",
      "890    0\n",
      "Name: survived, Length: 712, dtype: int64\n"
     ]
    }
   ],
   "source": [
    "print(y)"
   ]
  },
  {
   "cell_type": "code",
   "execution_count": 14,
   "id": "52b3ec6c",
   "metadata": {},
   "outputs": [],
   "source": [
    "# splitting this dataset into th test train\n",
    "X_train, X_test, y_train, y_test = train_test_split(X,y, test_size=0.2, random_state=42)"
   ]
  },
  {
   "cell_type": "code",
   "execution_count": 15,
   "id": "765cbf05",
   "metadata": {},
   "outputs": [],
   "source": [
    "# normalize the data\n",
    "# standarize the data means that it converts all the stander data into the mean = 0 and std = 1, high values data like 5755, 243 converts into the 0.145, 1.98\n",
    "scaler = StandardScaler()\n",
    "X_train = scaler.fit_transform(X_train) # that measuers the mean and std from the data and converts it to the lower dimension\n",
    "X_test = scaler.transform(X_test)# they use previous data of X_train scaler and transform all the data of test into the train data bases  # Note this helps neural network model to train better and faster because our values are convert into the low dimensions "
   ]
  },
  {
   "cell_type": "code",
   "execution_count": 16,
   "id": "296ca5f0",
   "metadata": {},
   "outputs": [
    {
     "data": {
      "text/plain": [
       "18"
      ]
     },
     "execution_count": 16,
     "metadata": {},
     "output_type": "execute_result"
    }
   ],
   "source": [
    "X_train.shape[1]"
   ]
  },
  {
   "cell_type": "markdown",
   "id": "5c53f1c2",
   "metadata": {},
   "source": [
    "BUILDING THE SIMPLE NEURAL NETWORK NOT INCLUDING THE HIDDEN LAYERS MLP"
   ]
  },
  {
   "cell_type": "code",
   "execution_count": 17,
   "id": "d8019614",
   "metadata": {},
   "outputs": [],
   "source": [
    "# sets the layers of neural network\n",
    "#building the model single layer neural network\n",
    "\n",
    "# makes the layers of the model\n",
    "input_layers = tf.keras.layers.Dense(10, activation='relu', input_shape = (X_train.shape[1],))# using tensorflow.keras to extract layers and take Dense layer in this neural network are fully connected by each other from the one node to another , and taking 10 neurons in the first dense layer, applied the activation function relu -0 to positive keep same , and tells the model to ready for extract 18 input features from our data\n",
    "# hiodden layer not useing there \n",
    "output_layer = tf.keras.layers.Dense(1, activation='sigmoid')"
   ]
  },
  {
   "cell_type": "code",
   "execution_count": 18,
   "id": "771d883d",
   "metadata": {},
   "outputs": [],
   "source": [
    "# it defines the model architecture connect , layers of input layers , hidden layers and the output layer with weights and settings and make a pipeline to build model\n",
    "\n",
    "# combine this layers into the model\n",
    "model = tf.keras.models.Sequential([input_layers,\n",
    "                                   output_layer])  # it makes a neural network model"
   ]
  },
  {
   "cell_type": "code",
   "execution_count": 19,
   "id": "f1ba5030",
   "metadata": {},
   "outputs": [],
   "source": [
    "#set rules how to train the model after combining the input and outputlayer of the model\n",
    "model.compile(optimizer=\"adam\", loss=\"binary_crossentropy\", metrics=[\"accuracy\"])"
   ]
  },
  {
   "cell_type": "code",
   "execution_count": 20,
   "id": "66789adc",
   "metadata": {},
   "outputs": [
    {
     "name": "stdout",
     "output_type": "stream",
     "text": [
      "Epoch 1/10\n",
      "\u001b[1m18/18\u001b[0m \u001b[32m━━━━━━━━━━━━━━━━━━━━\u001b[0m\u001b[37m\u001b[0m \u001b[1m2s\u001b[0m 4ms/step - accuracy: 0.3969 - loss: 0.9618\n",
      "Epoch 2/10\n",
      "\u001b[1m18/18\u001b[0m \u001b[32m━━━━━━━━━━━━━━━━━━━━\u001b[0m\u001b[37m\u001b[0m \u001b[1m0s\u001b[0m 3ms/step - accuracy: 0.4609 - loss: 0.9032\n",
      "Epoch 3/10\n",
      "\u001b[1m18/18\u001b[0m \u001b[32m━━━━━━━━━━━━━━━━━━━━\u001b[0m\u001b[37m\u001b[0m \u001b[1m0s\u001b[0m 3ms/step - accuracy: 0.4920 - loss: 0.7906\n",
      "Epoch 4/10\n",
      "\u001b[1m18/18\u001b[0m \u001b[32m━━━━━━━━━━━━━━━━━━━━\u001b[0m\u001b[37m\u001b[0m \u001b[1m0s\u001b[0m 3ms/step - accuracy: 0.5689 - loss: 0.7446\n",
      "Epoch 5/10\n",
      "\u001b[1m18/18\u001b[0m \u001b[32m━━━━━━━━━━━━━━━━━━━━\u001b[0m\u001b[37m\u001b[0m \u001b[1m0s\u001b[0m 3ms/step - accuracy: 0.5798 - loss: 0.7210\n",
      "Epoch 6/10\n",
      "\u001b[1m18/18\u001b[0m \u001b[32m━━━━━━━━━━━━━━━━━━━━\u001b[0m\u001b[37m\u001b[0m \u001b[1m0s\u001b[0m 3ms/step - accuracy: 0.6545 - loss: 0.6476\n",
      "Epoch 7/10\n",
      "\u001b[1m18/18\u001b[0m \u001b[32m━━━━━━━━━━━━━━━━━━━━\u001b[0m\u001b[37m\u001b[0m \u001b[1m0s\u001b[0m 3ms/step - accuracy: 0.6642 - loss: 0.6221\n",
      "Epoch 8/10\n",
      "\u001b[1m18/18\u001b[0m \u001b[32m━━━━━━━━━━━━━━━━━━━━\u001b[0m\u001b[37m\u001b[0m \u001b[1m0s\u001b[0m 2ms/step - accuracy: 0.6866 - loss: 0.5935\n",
      "Epoch 9/10\n",
      "\u001b[1m18/18\u001b[0m \u001b[32m━━━━━━━━━━━━━━━━━━━━\u001b[0m\u001b[37m\u001b[0m \u001b[1m0s\u001b[0m 3ms/step - accuracy: 0.7222 - loss: 0.5727\n",
      "Epoch 10/10\n",
      "\u001b[1m18/18\u001b[0m \u001b[32m━━━━━━━━━━━━━━━━━━━━\u001b[0m\u001b[37m\u001b[0m \u001b[1m0s\u001b[0m 3ms/step - accuracy: 0.7544 - loss: 0.5558\n"
     ]
    },
    {
     "data": {
      "text/plain": [
       "<keras.src.callbacks.history.History at 0x15e4ade6050>"
      ]
     },
     "execution_count": 20,
     "metadata": {},
     "output_type": "execute_result"
    }
   ],
   "source": [
    "# Training the model\n",
    "model.fit(X_train, y_train, epochs=10, batch_size=32, verbose=1)"
   ]
  },
  {
   "cell_type": "code",
   "execution_count": 21,
   "id": "717bbd65",
   "metadata": {},
   "outputs": [
    {
     "name": "stdout",
     "output_type": "stream",
     "text": [
      "Epoch 1/70\n",
      "\u001b[1m18/18\u001b[0m \u001b[32m━━━━━━━━━━━━━━━━━━━━\u001b[0m\u001b[37m\u001b[0m \u001b[1m0s\u001b[0m 2ms/step - accuracy: 0.7359 - loss: 0.5653 \n",
      "Epoch 2/70\n",
      "\u001b[1m18/18\u001b[0m \u001b[32m━━━━━━━━━━━━━━━━━━━━\u001b[0m\u001b[37m\u001b[0m \u001b[1m0s\u001b[0m 3ms/step - accuracy: 0.7667 - loss: 0.5159\n",
      "Epoch 3/70\n",
      "\u001b[1m18/18\u001b[0m \u001b[32m━━━━━━━━━━━━━━━━━━━━\u001b[0m\u001b[37m\u001b[0m \u001b[1m0s\u001b[0m 4ms/step - accuracy: 0.7875 - loss: 0.5286\n",
      "Epoch 4/70\n",
      "\u001b[1m18/18\u001b[0m \u001b[32m━━━━━━━━━━━━━━━━━━━━\u001b[0m\u001b[37m\u001b[0m \u001b[1m0s\u001b[0m 3ms/step - accuracy: 0.7438 - loss: 0.5435\n",
      "Epoch 5/70\n",
      "\u001b[1m18/18\u001b[0m \u001b[32m━━━━━━━━━━━━━━━━━━━━\u001b[0m\u001b[37m\u001b[0m \u001b[1m0s\u001b[0m 7ms/step - accuracy: 0.7945 - loss: 0.4901\n",
      "Epoch 6/70\n",
      "\u001b[1m18/18\u001b[0m \u001b[32m━━━━━━━━━━━━━━━━━━━━\u001b[0m\u001b[37m\u001b[0m \u001b[1m0s\u001b[0m 22ms/step - accuracy: 0.7851 - loss: 0.4863\n",
      "Epoch 7/70\n",
      "\u001b[1m18/18\u001b[0m \u001b[32m━━━━━━━━━━━━━━━━━━━━\u001b[0m\u001b[37m\u001b[0m \u001b[1m0s\u001b[0m 5ms/step - accuracy: 0.8132 - loss: 0.4509\n",
      "Epoch 8/70\n",
      "\u001b[1m18/18\u001b[0m \u001b[32m━━━━━━━━━━━━━━━━━━━━\u001b[0m\u001b[37m\u001b[0m \u001b[1m0s\u001b[0m 4ms/step - accuracy: 0.8108 - loss: 0.4606\n",
      "Epoch 9/70\n",
      "\u001b[1m18/18\u001b[0m \u001b[32m━━━━━━━━━━━━━━━━━━━━\u001b[0m\u001b[37m\u001b[0m \u001b[1m0s\u001b[0m 3ms/step - accuracy: 0.7928 - loss: 0.4603\n",
      "Epoch 10/70\n",
      "\u001b[1m18/18\u001b[0m \u001b[32m━━━━━━━━━━━━━━━━━━━━\u001b[0m\u001b[37m\u001b[0m \u001b[1m0s\u001b[0m 3ms/step - accuracy: 0.8017 - loss: 0.4759\n",
      "Epoch 11/70\n",
      "\u001b[1m18/18\u001b[0m \u001b[32m━━━━━━━━━━━━━━━━━━━━\u001b[0m\u001b[37m\u001b[0m \u001b[1m0s\u001b[0m 6ms/step - accuracy: 0.8183 - loss: 0.4356\n",
      "Epoch 12/70\n",
      "\u001b[1m18/18\u001b[0m \u001b[32m━━━━━━━━━━━━━━━━━━━━\u001b[0m\u001b[37m\u001b[0m \u001b[1m0s\u001b[0m 8ms/step - accuracy: 0.7933 - loss: 0.4730\n",
      "Epoch 13/70\n",
      "\u001b[1m18/18\u001b[0m \u001b[32m━━━━━━━━━━━━━━━━━━━━\u001b[0m\u001b[37m\u001b[0m \u001b[1m0s\u001b[0m 9ms/step - accuracy: 0.8176 - loss: 0.4410\n",
      "Epoch 14/70\n",
      "\u001b[1m18/18\u001b[0m \u001b[32m━━━━━━━━━━━━━━━━━━━━\u001b[0m\u001b[37m\u001b[0m \u001b[1m0s\u001b[0m 3ms/step - accuracy: 0.8010 - loss: 0.4507\n",
      "Epoch 15/70\n",
      "\u001b[1m18/18\u001b[0m \u001b[32m━━━━━━━━━━━━━━━━━━━━\u001b[0m\u001b[37m\u001b[0m \u001b[1m0s\u001b[0m 3ms/step - accuracy: 0.8331 - loss: 0.4297\n",
      "Epoch 16/70\n",
      "\u001b[1m18/18\u001b[0m \u001b[32m━━━━━━━━━━━━━━━━━━━━\u001b[0m\u001b[37m\u001b[0m \u001b[1m0s\u001b[0m 2ms/step - accuracy: 0.8218 - loss: 0.4290\n",
      "Epoch 17/70\n",
      "\u001b[1m18/18\u001b[0m \u001b[32m━━━━━━━━━━━━━━━━━━━━\u001b[0m\u001b[37m\u001b[0m \u001b[1m0s\u001b[0m 3ms/step - accuracy: 0.7853 - loss: 0.4594\n",
      "Epoch 18/70\n",
      "\u001b[1m18/18\u001b[0m \u001b[32m━━━━━━━━━━━━━━━━━━━━\u001b[0m\u001b[37m\u001b[0m \u001b[1m0s\u001b[0m 3ms/step - accuracy: 0.8397 - loss: 0.4052\n",
      "Epoch 19/70\n",
      "\u001b[1m18/18\u001b[0m \u001b[32m━━━━━━━━━━━━━━━━━━━━\u001b[0m\u001b[37m\u001b[0m \u001b[1m0s\u001b[0m 3ms/step - accuracy: 0.8164 - loss: 0.4130\n",
      "Epoch 20/70\n",
      "\u001b[1m18/18\u001b[0m \u001b[32m━━━━━━━━━━━━━━━━━━━━\u001b[0m\u001b[37m\u001b[0m \u001b[1m0s\u001b[0m 2ms/step - accuracy: 0.8177 - loss: 0.4141\n",
      "Epoch 21/70\n",
      "\u001b[1m18/18\u001b[0m \u001b[32m━━━━━━━━━━━━━━━━━━━━\u001b[0m\u001b[37m\u001b[0m \u001b[1m0s\u001b[0m 3ms/step - accuracy: 0.8343 - loss: 0.4084\n",
      "Epoch 22/70\n",
      "\u001b[1m18/18\u001b[0m \u001b[32m━━━━━━━━━━━━━━━━━━━━\u001b[0m\u001b[37m\u001b[0m \u001b[1m0s\u001b[0m 2ms/step - accuracy: 0.8415 - loss: 0.3991\n",
      "Epoch 23/70\n",
      "\u001b[1m18/18\u001b[0m \u001b[32m━━━━━━━━━━━━━━━━━━━━\u001b[0m\u001b[37m\u001b[0m \u001b[1m0s\u001b[0m 3ms/step - accuracy: 0.8375 - loss: 0.3905\n",
      "Epoch 24/70\n",
      "\u001b[1m18/18\u001b[0m \u001b[32m━━━━━━━━━━━━━━━━━━━━\u001b[0m\u001b[37m\u001b[0m \u001b[1m0s\u001b[0m 3ms/step - accuracy: 0.8137 - loss: 0.4290\n",
      "Epoch 25/70\n",
      "\u001b[1m18/18\u001b[0m \u001b[32m━━━━━━━━━━━━━━━━━━━━\u001b[0m\u001b[37m\u001b[0m \u001b[1m0s\u001b[0m 3ms/step - accuracy: 0.8290 - loss: 0.4265\n",
      "Epoch 26/70\n",
      "\u001b[1m18/18\u001b[0m \u001b[32m━━━━━━━━━━━━━━━━━━━━\u001b[0m\u001b[37m\u001b[0m \u001b[1m0s\u001b[0m 2ms/step - accuracy: 0.8340 - loss: 0.4042\n",
      "Epoch 27/70\n",
      "\u001b[1m18/18\u001b[0m \u001b[32m━━━━━━━━━━━━━━━━━━━━\u001b[0m\u001b[37m\u001b[0m \u001b[1m0s\u001b[0m 2ms/step - accuracy: 0.8263 - loss: 0.4148\n",
      "Epoch 28/70\n",
      "\u001b[1m18/18\u001b[0m \u001b[32m━━━━━━━━━━━━━━━━━━━━\u001b[0m\u001b[37m\u001b[0m \u001b[1m0s\u001b[0m 2ms/step - accuracy: 0.8269 - loss: 0.3966\n",
      "Epoch 29/70\n",
      "\u001b[1m18/18\u001b[0m \u001b[32m━━━━━━━━━━━━━━━━━━━━\u001b[0m\u001b[37m\u001b[0m \u001b[1m0s\u001b[0m 2ms/step - accuracy: 0.8525 - loss: 0.3898\n",
      "Epoch 30/70\n",
      "\u001b[1m18/18\u001b[0m \u001b[32m━━━━━━━━━━━━━━━━━━━━\u001b[0m\u001b[37m\u001b[0m \u001b[1m0s\u001b[0m 3ms/step - accuracy: 0.8419 - loss: 0.3838\n",
      "Epoch 31/70\n",
      "\u001b[1m18/18\u001b[0m \u001b[32m━━━━━━━━━━━━━━━━━━━━\u001b[0m\u001b[37m\u001b[0m \u001b[1m0s\u001b[0m 3ms/step - accuracy: 0.8423 - loss: 0.4044\n",
      "Epoch 32/70\n",
      "\u001b[1m18/18\u001b[0m \u001b[32m━━━━━━━━━━━━━━━━━━━━\u001b[0m\u001b[37m\u001b[0m \u001b[1m0s\u001b[0m 2ms/step - accuracy: 0.8211 - loss: 0.4396\n",
      "Epoch 33/70\n",
      "\u001b[1m18/18\u001b[0m \u001b[32m━━━━━━━━━━━━━━━━━━━━\u001b[0m\u001b[37m\u001b[0m \u001b[1m0s\u001b[0m 3ms/step - accuracy: 0.8227 - loss: 0.3930\n",
      "Epoch 34/70\n",
      "\u001b[1m18/18\u001b[0m \u001b[32m━━━━━━━━━━━━━━━━━━━━\u001b[0m\u001b[37m\u001b[0m \u001b[1m0s\u001b[0m 3ms/step - accuracy: 0.8267 - loss: 0.4050 \n",
      "Epoch 35/70\n",
      "\u001b[1m18/18\u001b[0m \u001b[32m━━━━━━━━━━━━━━━━━━━━\u001b[0m\u001b[37m\u001b[0m \u001b[1m0s\u001b[0m 3ms/step - accuracy: 0.8194 - loss: 0.4085 \n",
      "Epoch 36/70\n",
      "\u001b[1m18/18\u001b[0m \u001b[32m━━━━━━━━━━━━━━━━━━━━\u001b[0m\u001b[37m\u001b[0m \u001b[1m0s\u001b[0m 2ms/step - accuracy: 0.8243 - loss: 0.4174\n",
      "Epoch 37/70\n",
      "\u001b[1m18/18\u001b[0m \u001b[32m━━━━━━━━━━━━━━━━━━━━\u001b[0m\u001b[37m\u001b[0m \u001b[1m0s\u001b[0m 2ms/step - accuracy: 0.8332 - loss: 0.3869\n",
      "Epoch 38/70\n",
      "\u001b[1m18/18\u001b[0m \u001b[32m━━━━━━━━━━━━━━━━━━━━\u001b[0m\u001b[37m\u001b[0m \u001b[1m0s\u001b[0m 2ms/step - accuracy: 0.8516 - loss: 0.3639\n",
      "Epoch 39/70\n",
      "\u001b[1m18/18\u001b[0m \u001b[32m━━━━━━━━━━━━━━━━━━━━\u001b[0m\u001b[37m\u001b[0m \u001b[1m0s\u001b[0m 3ms/step - accuracy: 0.8617 - loss: 0.3593\n",
      "Epoch 40/70\n",
      "\u001b[1m18/18\u001b[0m \u001b[32m━━━━━━━━━━━━━━━━━━━━\u001b[0m\u001b[37m\u001b[0m \u001b[1m0s\u001b[0m 3ms/step - accuracy: 0.8590 - loss: 0.3567\n",
      "Epoch 41/70\n",
      "\u001b[1m18/18\u001b[0m \u001b[32m━━━━━━━━━━━━━━━━━━━━\u001b[0m\u001b[37m\u001b[0m \u001b[1m0s\u001b[0m 2ms/step - accuracy: 0.8165 - loss: 0.4049\n",
      "Epoch 42/70\n",
      "\u001b[1m18/18\u001b[0m \u001b[32m━━━━━━━━━━━━━━━━━━━━\u001b[0m\u001b[37m\u001b[0m \u001b[1m0s\u001b[0m 2ms/step - accuracy: 0.8512 - loss: 0.3721 \n",
      "Epoch 43/70\n",
      "\u001b[1m18/18\u001b[0m \u001b[32m━━━━━━━━━━━━━━━━━━━━\u001b[0m\u001b[37m\u001b[0m \u001b[1m0s\u001b[0m 3ms/step - accuracy: 0.8441 - loss: 0.3926\n",
      "Epoch 44/70\n",
      "\u001b[1m18/18\u001b[0m \u001b[32m━━━━━━━━━━━━━━━━━━━━\u001b[0m\u001b[37m\u001b[0m \u001b[1m0s\u001b[0m 2ms/step - accuracy: 0.8405 - loss: 0.3993\n",
      "Epoch 45/70\n",
      "\u001b[1m18/18\u001b[0m \u001b[32m━━━━━━━━━━━━━━━━━━━━\u001b[0m\u001b[37m\u001b[0m \u001b[1m0s\u001b[0m 2ms/step - accuracy: 0.8300 - loss: 0.3816\n",
      "Epoch 46/70\n",
      "\u001b[1m18/18\u001b[0m \u001b[32m━━━━━━━━━━━━━━━━━━━━\u001b[0m\u001b[37m\u001b[0m \u001b[1m0s\u001b[0m 3ms/step - accuracy: 0.8263 - loss: 0.3940\n",
      "Epoch 47/70\n",
      "\u001b[1m18/18\u001b[0m \u001b[32m━━━━━━━━━━━━━━━━━━━━\u001b[0m\u001b[37m\u001b[0m \u001b[1m0s\u001b[0m 2ms/step - accuracy: 0.8397 - loss: 0.3742\n",
      "Epoch 48/70\n",
      "\u001b[1m18/18\u001b[0m \u001b[32m━━━━━━━━━━━━━━━━━━━━\u001b[0m\u001b[37m\u001b[0m \u001b[1m0s\u001b[0m 4ms/step - accuracy: 0.8376 - loss: 0.3765\n",
      "Epoch 49/70\n",
      "\u001b[1m18/18\u001b[0m \u001b[32m━━━━━━━━━━━━━━━━━━━━\u001b[0m\u001b[37m\u001b[0m \u001b[1m0s\u001b[0m 3ms/step - accuracy: 0.8429 - loss: 0.3767\n",
      "Epoch 50/70\n",
      "\u001b[1m18/18\u001b[0m \u001b[32m━━━━━━━━━━━━━━━━━━━━\u001b[0m\u001b[37m\u001b[0m \u001b[1m0s\u001b[0m 3ms/step - accuracy: 0.8488 - loss: 0.3685\n",
      "Epoch 51/70\n",
      "\u001b[1m18/18\u001b[0m \u001b[32m━━━━━━━━━━━━━━━━━━━━\u001b[0m\u001b[37m\u001b[0m \u001b[1m0s\u001b[0m 3ms/step - accuracy: 0.8341 - loss: 0.3741\n",
      "Epoch 52/70\n",
      "\u001b[1m18/18\u001b[0m \u001b[32m━━━━━━━━━━━━━━━━━━━━\u001b[0m\u001b[37m\u001b[0m \u001b[1m0s\u001b[0m 2ms/step - accuracy: 0.8382 - loss: 0.3600\n",
      "Epoch 53/70\n",
      "\u001b[1m18/18\u001b[0m \u001b[32m━━━━━━━━━━━━━━━━━━━━\u001b[0m\u001b[37m\u001b[0m \u001b[1m0s\u001b[0m 3ms/step - accuracy: 0.8414 - loss: 0.3677\n",
      "Epoch 54/70\n",
      "\u001b[1m18/18\u001b[0m \u001b[32m━━━━━━━━━━━━━━━━━━━━\u001b[0m\u001b[37m\u001b[0m \u001b[1m0s\u001b[0m 3ms/step - accuracy: 0.8574 - loss: 0.3427\n",
      "Epoch 55/70\n",
      "\u001b[1m18/18\u001b[0m \u001b[32m━━━━━━━━━━━━━━━━━━━━\u001b[0m\u001b[37m\u001b[0m \u001b[1m0s\u001b[0m 4ms/step - accuracy: 0.8492 - loss: 0.3903\n",
      "Epoch 56/70\n",
      "\u001b[1m18/18\u001b[0m \u001b[32m━━━━━━━━━━━━━━━━━━━━\u001b[0m\u001b[37m\u001b[0m \u001b[1m0s\u001b[0m 4ms/step - accuracy: 0.8415 - loss: 0.3686\n",
      "Epoch 57/70\n",
      "\u001b[1m18/18\u001b[0m \u001b[32m━━━━━━━━━━━━━━━━━━━━\u001b[0m\u001b[37m\u001b[0m \u001b[1m0s\u001b[0m 10ms/step - accuracy: 0.8463 - loss: 0.3649\n",
      "Epoch 58/70\n",
      "\u001b[1m18/18\u001b[0m \u001b[32m━━━━━━━━━━━━━━━━━━━━\u001b[0m\u001b[37m\u001b[0m \u001b[1m0s\u001b[0m 9ms/step - accuracy: 0.8154 - loss: 0.3985\n",
      "Epoch 59/70\n",
      "\u001b[1m18/18\u001b[0m \u001b[32m━━━━━━━━━━━━━━━━━━━━\u001b[0m\u001b[37m\u001b[0m \u001b[1m0s\u001b[0m 3ms/step - accuracy: 0.8189 - loss: 0.4231\n",
      "Epoch 60/70\n",
      "\u001b[1m18/18\u001b[0m \u001b[32m━━━━━━━━━━━━━━━━━━━━\u001b[0m\u001b[37m\u001b[0m \u001b[1m0s\u001b[0m 3ms/step - accuracy: 0.8376 - loss: 0.3716\n",
      "Epoch 61/70\n",
      "\u001b[1m18/18\u001b[0m \u001b[32m━━━━━━━━━━━━━━━━━━━━\u001b[0m\u001b[37m\u001b[0m \u001b[1m0s\u001b[0m 3ms/step - accuracy: 0.8122 - loss: 0.4204\n",
      "Epoch 62/70\n",
      "\u001b[1m18/18\u001b[0m \u001b[32m━━━━━━━━━━━━━━━━━━━━\u001b[0m\u001b[37m\u001b[0m \u001b[1m0s\u001b[0m 3ms/step - accuracy: 0.8317 - loss: 0.3850\n",
      "Epoch 63/70\n",
      "\u001b[1m18/18\u001b[0m \u001b[32m━━━━━━━━━━━━━━━━━━━━\u001b[0m\u001b[37m\u001b[0m \u001b[1m0s\u001b[0m 3ms/step - accuracy: 0.8607 - loss: 0.3441\n",
      "Epoch 64/70\n",
      "\u001b[1m18/18\u001b[0m \u001b[32m━━━━━━━━━━━━━━━━━━━━\u001b[0m\u001b[37m\u001b[0m \u001b[1m0s\u001b[0m 3ms/step - accuracy: 0.8390 - loss: 0.3396\n",
      "Epoch 65/70\n",
      "\u001b[1m18/18\u001b[0m \u001b[32m━━━━━━━━━━━━━━━━━━━━\u001b[0m\u001b[37m\u001b[0m \u001b[1m0s\u001b[0m 3ms/step - accuracy: 0.8420 - loss: 0.3796\n",
      "Epoch 66/70\n",
      "\u001b[1m18/18\u001b[0m \u001b[32m━━━━━━━━━━━━━━━━━━━━\u001b[0m\u001b[37m\u001b[0m \u001b[1m0s\u001b[0m 3ms/step - accuracy: 0.8638 - loss: 0.3406\n",
      "Epoch 67/70\n",
      "\u001b[1m18/18\u001b[0m \u001b[32m━━━━━━━━━━━━━━━━━━━━\u001b[0m\u001b[37m\u001b[0m \u001b[1m0s\u001b[0m 3ms/step - accuracy: 0.8525 - loss: 0.3657\n",
      "Epoch 68/70\n",
      "\u001b[1m18/18\u001b[0m \u001b[32m━━━━━━━━━━━━━━━━━━━━\u001b[0m\u001b[37m\u001b[0m \u001b[1m0s\u001b[0m 2ms/step - accuracy: 0.8463 - loss: 0.3715\n",
      "Epoch 69/70\n",
      "\u001b[1m18/18\u001b[0m \u001b[32m━━━━━━━━━━━━━━━━━━━━\u001b[0m\u001b[37m\u001b[0m \u001b[1m0s\u001b[0m 3ms/step - accuracy: 0.8437 - loss: 0.3581\n",
      "Epoch 70/70\n",
      "\u001b[1m18/18\u001b[0m \u001b[32m━━━━━━━━━━━━━━━━━━━━\u001b[0m\u001b[37m\u001b[0m \u001b[1m0s\u001b[0m 3ms/step - accuracy: 0.8296 - loss: 0.3840\n"
     ]
    },
    {
     "data": {
      "text/plain": [
       "<keras.src.callbacks.history.History at 0x15e4afe5d90>"
      ]
     },
     "execution_count": 21,
     "metadata": {},
     "output_type": "execute_result"
    }
   ],
   "source": [
    "# Again train the model to reduce the loss\n",
    "model.fit(X_train, y_train, epochs=70, batch_size=32, verbose=1)"
   ]
  },
  {
   "cell_type": "code",
   "execution_count": 22,
   "id": "724b04e8",
   "metadata": {},
   "outputs": [
    {
     "name": "stdout",
     "output_type": "stream",
     "text": [
      "\u001b[1m5/5\u001b[0m \u001b[32m━━━━━━━━━━━━━━━━━━━━\u001b[0m\u001b[37m\u001b[0m \u001b[1m0s\u001b[0m 6ms/step - accuracy: 0.7913 - loss: 0.4666\n",
      "this is the accuracy of the model 0.7762237787246704\n",
      "this is the loss of the model 0.5066747069358826\n"
     ]
    }
   ],
   "source": [
    "# calculating the loss and accuracy of the model\n",
    "loss, accuracy = model.evaluate(X_test, y_test, verbose=1)\n",
    "print(\"this is the accuracy of the model\", accuracy)\n",
    "print(\"this is the loss of the model\", loss)"
   ]
  },
  {
   "cell_type": "code",
   "execution_count": 23,
   "id": "771f473c",
   "metadata": {},
   "outputs": [
    {
     "name": "stdout",
     "output_type": "stream",
     "text": [
      "gpu is not available\n",
      "False\n"
     ]
    }
   ],
   "source": [
    "# check if gpu is initialize or not\n",
    "gpu = len(tf.config.list_physical_devices(\"gpu\")) > 0\n",
    "print(\"gpu is available\" if gpu else \"gpu is not available\")\n",
    "print(gpu)"
   ]
  }
 ],
 "metadata": {
  "kernelspec": {
   "display_name": "tf_env",
   "language": "python",
   "name": "python3"
  },
  "language_info": {
   "codemirror_mode": {
    "name": "ipython",
    "version": 3
   },
   "file_extension": ".py",
   "mimetype": "text/x-python",
   "name": "python",
   "nbconvert_exporter": "python",
   "pygments_lexer": "ipython3",
   "version": "3.11.13"
  }
 },
 "nbformat": 4,
 "nbformat_minor": 5
}
