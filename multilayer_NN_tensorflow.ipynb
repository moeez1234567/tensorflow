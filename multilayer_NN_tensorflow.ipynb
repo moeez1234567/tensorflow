{
 "cells": [
  {
   "cell_type": "code",
   "execution_count": 1,
   "id": "8535351f",
   "metadata": {},
   "outputs": [],
   "source": [
    "import tensorflow as tf \n",
    "import pandas as pd\n",
    "from sklearn.model_selection import train_test_split\n",
    "from sklearn.preprocessing import StandardScaler\n",
    "import seaborn as sb"
   ]
  },
  {
   "cell_type": "code",
   "execution_count": 2,
   "id": "5e2822a3",
   "metadata": {},
   "outputs": [],
   "source": [
    "# first ignore the warnings\n",
    "import warnings\n",
    "warnings.filterwarnings('ignore')"
   ]
  },
  {
   "cell_type": "code",
   "execution_count": 3,
   "id": "d47ba6fd",
   "metadata": {},
   "outputs": [],
   "source": [
    "# load the dataset from seaborn library\n",
    "dataset = sb.load_dataset('tips')"
   ]
  },
  {
   "cell_type": "code",
   "execution_count": 4,
   "id": "2253579d",
   "metadata": {},
   "outputs": [
    {
     "name": "stdout",
     "output_type": "stream",
     "text": [
      "     total_bill   tip     sex smoker   day    time  size\n",
      "0         16.99  1.01  Female     No   Sun  Dinner     2\n",
      "1         10.34  1.66    Male     No   Sun  Dinner     3\n",
      "2         21.01  3.50    Male     No   Sun  Dinner     3\n",
      "3         23.68  3.31    Male     No   Sun  Dinner     2\n",
      "4         24.59  3.61  Female     No   Sun  Dinner     4\n",
      "..          ...   ...     ...    ...   ...     ...   ...\n",
      "239       29.03  5.92    Male     No   Sat  Dinner     3\n",
      "240       27.18  2.00  Female    Yes   Sat  Dinner     2\n",
      "241       22.67  2.00    Male    Yes   Sat  Dinner     2\n",
      "242       17.82  1.75    Male     No   Sat  Dinner     2\n",
      "243       18.78  3.00  Female     No  Thur  Dinner     2\n",
      "\n",
      "[244 rows x 7 columns]\n"
     ]
    }
   ],
   "source": [
    "print(dataset)"
   ]
  },
  {
   "cell_type": "code",
   "execution_count": 5,
   "id": "a40a0b1a",
   "metadata": {},
   "outputs": [],
   "source": [
    "# concert the text data into the form that machine can understand like true and false\n",
    "tips = pd.get_dummies(dataset, drop_first=True)# it can convert text data which ml cant understand like the smoker yes, no , which day, like sun, mon ml cant understand so it convert this categorical text data into the true, false"
   ]
  },
  {
   "cell_type": "code",
   "execution_count": 6,
   "id": "ec62f7df",
   "metadata": {},
   "outputs": [
    {
     "name": "stdout",
     "output_type": "stream",
     "text": [
      "     total_bill   tip  size  sex_Female  smoker_No  day_Fri  day_Sat  day_Sun  \\\n",
      "0         16.99  1.01     2        True       True    False    False     True   \n",
      "1         10.34  1.66     3       False       True    False    False     True   \n",
      "2         21.01  3.50     3       False       True    False    False     True   \n",
      "3         23.68  3.31     2       False       True    False    False     True   \n",
      "4         24.59  3.61     4        True       True    False    False     True   \n",
      "..          ...   ...   ...         ...        ...      ...      ...      ...   \n",
      "239       29.03  5.92     3       False       True    False     True    False   \n",
      "240       27.18  2.00     2        True      False    False     True    False   \n",
      "241       22.67  2.00     2       False      False    False     True    False   \n",
      "242       17.82  1.75     2       False       True    False     True    False   \n",
      "243       18.78  3.00     2        True       True    False    False    False   \n",
      "\n",
      "     time_Dinner  \n",
      "0           True  \n",
      "1           True  \n",
      "2           True  \n",
      "3           True  \n",
      "4           True  \n",
      "..           ...  \n",
      "239         True  \n",
      "240         True  \n",
      "241         True  \n",
      "242         True  \n",
      "243         True  \n",
      "\n",
      "[244 rows x 9 columns]\n"
     ]
    }
   ],
   "source": [
    "print(tips)"
   ]
  },
  {
   "cell_type": "code",
   "execution_count": 7,
   "id": "38570da3",
   "metadata": {},
   "outputs": [],
   "source": [
    "# set the data of X and y where X is the dataset which model can learn other data and from y model check this personality gives how much tip during forward and backword propogation during the model training\n",
    "X = tips.drop('tip', axis=1)\n",
    "y = tips['tip']"
   ]
  },
  {
   "cell_type": "code",
   "execution_count": 8,
   "id": "368d7716",
   "metadata": {},
   "outputs": [
    {
     "name": "stdout",
     "output_type": "stream",
     "text": [
      "     total_bill  size  sex_Female  smoker_No  day_Fri  day_Sat  day_Sun  \\\n",
      "0         16.99     2        True       True    False    False     True   \n",
      "1         10.34     3       False       True    False    False     True   \n",
      "2         21.01     3       False       True    False    False     True   \n",
      "3         23.68     2       False       True    False    False     True   \n",
      "4         24.59     4        True       True    False    False     True   \n",
      "..          ...   ...         ...        ...      ...      ...      ...   \n",
      "239       29.03     3       False       True    False     True    False   \n",
      "240       27.18     2        True      False    False     True    False   \n",
      "241       22.67     2       False      False    False     True    False   \n",
      "242       17.82     2       False       True    False     True    False   \n",
      "243       18.78     2        True       True    False    False    False   \n",
      "\n",
      "     time_Dinner  \n",
      "0           True  \n",
      "1           True  \n",
      "2           True  \n",
      "3           True  \n",
      "4           True  \n",
      "..           ...  \n",
      "239         True  \n",
      "240         True  \n",
      "241         True  \n",
      "242         True  \n",
      "243         True  \n",
      "\n",
      "[244 rows x 8 columns]\n"
     ]
    }
   ],
   "source": [
    "print(X)"
   ]
  },
  {
   "cell_type": "code",
   "execution_count": 9,
   "id": "506e19d1",
   "metadata": {},
   "outputs": [],
   "source": [
    "# split the data into the train and test\n",
    "X_train, X_test, y_train, y_test = train_test_split(X, y, train_size=0.2, random_state=42)"
   ]
  },
  {
   "cell_type": "code",
   "execution_count": 10,
   "id": "5670df58",
   "metadata": {},
   "outputs": [
    {
     "name": "stdout",
     "output_type": "stream",
     "text": [
      "     total_bill  size  sex_Female  smoker_No  day_Fri  day_Sat  day_Sun  \\\n",
      "63        18.29     4       False      False    False     True    False   \n",
      "54        25.56     4       False       True    False    False     True   \n",
      "107       25.21     2       False      False    False     True    False   \n",
      "50        12.54     2       False       True    False    False     True   \n",
      "230       24.01     4       False      False    False     True    False   \n",
      "174       16.82     2       False      False    False    False     True   \n",
      "212       48.33     4       False       True    False     True    False   \n",
      "189       23.10     3       False      False    False    False     True   \n",
      "240       27.18     2        True      False    False     True    False   \n",
      "215       12.90     2        True      False    False     True    False   \n",
      "169       10.63     2        True      False    False     True    False   \n",
      "58        11.24     2       False      False    False     True    False   \n",
      "48        28.55     3       False       True    False    False     True   \n",
      "88        24.71     2       False       True    False    False    False   \n",
      "21        20.29     2        True       True    False     True    False   \n",
      "57        26.41     2        True       True    False     True    False   \n",
      "203       16.40     2        True      False    False    False    False   \n",
      "160       21.50     4       False       True    False    False     True   \n",
      "236       12.60     2       False      False    False     True    False   \n",
      "187       30.46     5       False      False    False    False     True   \n",
      "191       19.81     2        True      False    False    False    False   \n",
      "129       22.82     3       False       True    False    False    False   \n",
      "37        16.93     3        True       True    False     True    False   \n",
      "157       25.00     4        True       True    False    False     True   \n",
      "229       22.12     2        True      False    False     True    False   \n",
      "1         10.34     3       False       True    False    False     True   \n",
      "52        34.81     4        True       True    False    False     True   \n",
      "149        7.51     2       False       True    False    False    False   \n",
      "130       19.08     2       False       True    False    False    False   \n",
      "151       13.13     2       False       True    False    False     True   \n",
      "103       22.42     2        True      False    False     True    False   \n",
      "99        12.46     2       False       True     True    False    False   \n",
      "116       29.93     4       False       True    False    False     True   \n",
      "87        18.28     2       False       True    False    False    False   \n",
      "202       13.00     2        True      False    False    False    False   \n",
      "74        14.73     2        True       True    False     True    False   \n",
      "214       28.17     3        True      False    False     True    False   \n",
      "210       30.06     3       False      False    False     True    False   \n",
      "121       13.42     2        True       True    False    False    False   \n",
      "243       18.78     2        True       True    False    False    False   \n",
      "20        17.92     2       False       True    False     True    False   \n",
      "188       18.15     3        True      False    False    False     True   \n",
      "71        17.07     3        True       True    False     True    False   \n",
      "106       20.49     2       False      False    False     True    False   \n",
      "14        14.83     2        True       True    False    False     True   \n",
      "92         5.75     2        True      False     True    False    False   \n",
      "179       34.63     2       False      False    False    False     True   \n",
      "102       44.30     3        True      False    False     True    False   \n",
      "\n",
      "     time_Dinner  \n",
      "63          True  \n",
      "54          True  \n",
      "107         True  \n",
      "50          True  \n",
      "230         True  \n",
      "174         True  \n",
      "212         True  \n",
      "189         True  \n",
      "240         True  \n",
      "215         True  \n",
      "169         True  \n",
      "58          True  \n",
      "48          True  \n",
      "88         False  \n",
      "21          True  \n",
      "57          True  \n",
      "203        False  \n",
      "160         True  \n",
      "236         True  \n",
      "187         True  \n",
      "191        False  \n",
      "129        False  \n",
      "37          True  \n",
      "157         True  \n",
      "229         True  \n",
      "1           True  \n",
      "52          True  \n",
      "149        False  \n",
      "130        False  \n",
      "151         True  \n",
      "103         True  \n",
      "99          True  \n",
      "116         True  \n",
      "87         False  \n",
      "202        False  \n",
      "74          True  \n",
      "214         True  \n",
      "210         True  \n",
      "121        False  \n",
      "243         True  \n",
      "20          True  \n",
      "188         True  \n",
      "71          True  \n",
      "106         True  \n",
      "14          True  \n",
      "92          True  \n",
      "179         True  \n",
      "102         True  \n"
     ]
    }
   ],
   "source": [
    "print(X_train)"
   ]
  },
  {
   "cell_type": "code",
   "execution_count": 11,
   "id": "1ef72ac4",
   "metadata": {},
   "outputs": [
    {
     "name": "stdout",
     "output_type": "stream",
     "text": [
      "24     3.18\n",
      "6      2.00\n",
      "153    2.00\n",
      "211    5.16\n",
      "198    2.00\n",
      "       ... \n",
      "72     3.14\n",
      "232    3.39\n",
      "134    3.25\n",
      "199    2.00\n",
      "224    1.58\n",
      "Name: tip, Length: 196, dtype: float64\n"
     ]
    }
   ],
   "source": [
    "print(y_test)"
   ]
  },
  {
   "cell_type": "markdown",
   "id": "11131759",
   "metadata": {},
   "source": [
    "CHANGE THE DATA INTO THE BINARY FORM"
   ]
  },
  {
   "cell_type": "code",
   "execution_count": 13,
   "id": "cd113bf9",
   "metadata": {},
   "outputs": [],
   "source": [
    "# Normalize the data into the high features to low fatures\n",
    "scaler = StandardScaler()\n",
    "X_train = scaler.fit_transform(X_train)# convert the data into the form data machich can understand (0,1) encode, fit_transform learn how to transform the data\n",
    "X_test = scaler.transform(X_test)# transform uses the previous form to transform the data mean = 0 and std = 1\n",
    "\n",
    "# Note we just convert the X data of train and test because y data is already in numeric form (tip) data"
   ]
  },
  {
   "cell_type": "code",
   "execution_count": 15,
   "id": "381d1942",
   "metadata": {},
   "outputs": [
    {
     "name": "stdout",
     "output_type": "stream",
     "text": [
      "[[-0.30145699  1.67134792 -0.91986621 -1.04257207 -0.20851441  1.13389342\n",
      "  -0.67419986  0.48038446]\n",
      " [ 0.54180097  1.67134792 -0.91986621  0.9591663  -0.20851441 -0.8819171\n",
      "   1.4832397   0.48038446]\n",
      " [ 0.50120396 -0.72341925 -0.91986621 -1.04257207 -0.20851441  1.13389342\n",
      "  -0.67419986  0.48038446]\n",
      " [-0.96840792 -0.72341925 -0.91986621  0.9591663  -0.20851441 -0.8819171\n",
      "   1.4832397   0.48038446]\n",
      " [ 0.3620142   1.67134792 -0.91986621 -1.04257207 -0.20851441  1.13389342\n",
      "  -0.67419986  0.48038446]\n",
      " [-0.47196444 -0.72341925 -0.91986621 -1.04257207 -0.20851441 -0.8819171\n",
      "   1.4832397   0.48038446]\n",
      " [ 3.18292665  1.67134792 -0.91986621  0.9591663  -0.20851441  1.13389342\n",
      "  -0.67419986  0.48038446]\n",
      " [ 0.25646196  0.47396433 -0.91986621 -1.04257207 -0.20851441 -0.8819171\n",
      "   1.4832397   0.48038446]\n",
      " [ 0.72970715 -0.72341925  1.08711461 -1.04257207 -0.20851441  1.13389342\n",
      "  -0.67419986  0.48038446]\n",
      " [-0.92665099 -0.72341925  1.08711461 -1.04257207 -0.20851441  1.13389342\n",
      "  -0.67419986  0.48038446]\n",
      " [-1.18995162 -0.72341925  1.08711461 -1.04257207 -0.20851441  1.13389342\n",
      "  -0.67419986  0.48038446]\n",
      " [-1.11919682 -0.72341925 -0.91986621 -1.04257207 -0.20851441  1.13389342\n",
      "  -0.67419986  0.48038446]\n",
      " [ 0.88861545  0.47396433 -0.91986621  0.9591663  -0.20851441 -0.8819171\n",
      "   1.4832397   0.48038446]\n",
      " [ 0.44320822 -0.72341925 -0.91986621  0.9591663  -0.20851441 -0.8819171\n",
      "  -0.67419986 -2.081666  ]\n",
      " [-0.06947406 -0.72341925  1.08711461  0.9591663  -0.20851441  1.13389342\n",
      "  -0.67419986  0.48038446]\n",
      " [ 0.64039372 -0.72341925  1.08711461  0.9591663  -0.20851441  1.13389342\n",
      "  -0.67419986  0.48038446]\n",
      " [-0.52068086 -0.72341925  1.08711461 -1.04257207 -0.20851441 -0.8819171\n",
      "  -0.67419986 -2.081666  ]\n",
      " [ 0.07087562  1.67134792 -0.91986621  0.9591663  -0.20851441 -0.8819171\n",
      "   1.4832397   0.48038446]\n",
      " [-0.96144843 -0.72341925 -0.91986621 -1.04257207 -0.20851441  1.13389342\n",
      "  -0.67419986  0.48038446]\n",
      " [ 1.11015915  2.8687315  -0.91986621 -1.04257207 -0.20851441 -0.8819171\n",
      "   1.4832397   0.48038446]\n",
      " [-0.12514996 -0.72341925  1.08711461 -1.04257207 -0.20851441 -0.8819171\n",
      "  -0.67419986 -2.081666  ]\n",
      " [ 0.22398435  0.47396433 -0.91986621  0.9591663  -0.20851441 -0.8819171\n",
      "  -0.67419986 -2.081666  ]\n",
      " [-0.45920538  0.47396433  1.08711461  0.9591663  -0.20851441  1.13389342\n",
      "  -0.67419986  0.48038446]\n",
      " [ 0.47684575  1.67134792  1.08711461  0.9591663  -0.20851441 -0.8819171\n",
      "   1.4832397   0.48038446]\n",
      " [ 0.14279033 -0.72341925  1.08711461 -1.04257207 -0.20851441  1.13389342\n",
      "  -0.67419986  0.48038446]\n",
      " [-1.22358914  0.47396433 -0.91986621  0.9591663  -0.20851441 -0.8819171\n",
      "   1.4832397   0.48038446]\n",
      " [ 1.61472203  1.67134792  1.08711461  0.9591663  -0.20851441 -0.8819171\n",
      "   1.4832397   0.48038446]\n",
      " [-1.55184499 -0.72341925 -0.91986621  0.9591663  -0.20851441 -0.8819171\n",
      "  -0.67419986 -2.081666  ]\n",
      " [-0.20982373 -0.72341925 -0.91986621  0.9591663  -0.20851441 -0.8819171\n",
      "  -0.67419986 -2.081666  ]\n",
      " [-0.89997295 -0.72341925 -0.91986621  0.9591663  -0.20851441 -0.8819171\n",
      "   1.4832397   0.48038446]\n",
      " [ 0.17758777 -0.72341925  1.08711461 -1.04257207 -0.20851441  1.13389342\n",
      "  -0.67419986  0.48038446]\n",
      " [-0.97768723 -0.72341925 -0.91986621  0.9591663   4.79583152 -0.8819171\n",
      "  -0.67419986  0.48038446]\n",
      " [ 1.04868368  1.67134792 -0.91986621  0.9591663  -0.20851441 -0.8819171\n",
      "   1.4832397   0.48038446]\n",
      " [-0.3026169  -0.72341925 -0.91986621  0.9591663  -0.20851441 -0.8819171\n",
      "  -0.67419986 -2.081666  ]\n",
      " [-0.91505184 -0.72341925  1.08711461 -1.04257207 -0.20851441 -0.8819171\n",
      "  -0.67419986 -2.081666  ]\n",
      " [-0.71438661 -0.72341925  1.08711461  0.9591663  -0.20851441  1.13389342\n",
      "  -0.67419986  0.48038446]\n",
      " [ 0.8445387   0.47396433  1.08711461 -1.04257207 -0.20851441  1.13389342\n",
      "  -0.67419986  0.48038446]\n",
      " [ 1.06376257  0.47396433 -0.91986621 -1.04257207 -0.20851441  1.13389342\n",
      "  -0.67419986  0.48038446]\n",
      " [-0.86633543 -0.72341925  1.08711461  0.9591663  -0.20851441 -0.8819171\n",
      "  -0.67419986 -2.081666  ]\n",
      " [-0.24462117 -0.72341925  1.08711461  0.9591663  -0.20851441 -0.8819171\n",
      "  -0.67419986  0.48038446]\n",
      " [-0.34437383 -0.72341925 -0.91986621  0.9591663  -0.20851441  1.13389342\n",
      "  -0.67419986  0.48038446]\n",
      " [-0.31769579  0.47396433  1.08711461 -1.04257207 -0.20851441 -0.8819171\n",
      "   1.4832397   0.48038446]\n",
      " [-0.44296658  0.47396433  1.08711461  0.9591663  -0.20851441  1.13389342\n",
      "  -0.67419986  0.48038446]\n",
      " [-0.04627576 -0.72341925 -0.91986621 -1.04257207 -0.20851441  1.13389342\n",
      "  -0.67419986  0.48038446]\n",
      " [-0.70278746 -0.72341925  1.08711461  0.9591663  -0.20851441 -0.8819171\n",
      "   1.4832397   0.48038446]\n",
      " [-1.75598997 -0.72341925  1.08711461 -1.04257207  4.79583152 -0.8819171\n",
      "  -0.67419986  0.48038446]\n",
      " [ 1.59384357 -0.72341925 -0.91986621 -1.04257207 -0.20851441 -0.8819171\n",
      "   1.4832397   0.48038446]\n",
      " [ 2.71548105  0.47396433  1.08711461 -1.04257207 -0.20851441  1.13389342\n",
      "  -0.67419986  0.48038446]]\n"
     ]
    }
   ],
   "source": [
    "print(X_train)"
   ]
  },
  {
   "cell_type": "code",
   "execution_count": 16,
   "id": "40e6a008",
   "metadata": {},
   "outputs": [
    {
     "name": "stdout",
     "output_type": "stream",
     "text": [
      "[[-0.12399004 -0.72341925 -0.91986621 ...  1.13389342 -0.67419986\n",
      "   0.48038446]\n",
      " [-1.40569574 -0.72341925 -0.91986621 ... -0.8819171   1.4832397\n",
      "   0.48038446]\n",
      " [ 0.42464959  1.67134792 -0.91986621 ... -0.8819171   1.4832397\n",
      "   0.48038446]\n",
      " ...\n",
      " [-0.30493673 -0.72341925  1.08711461 ... -0.8819171  -0.67419986\n",
      "  -2.081666  ]\n",
      " [-0.8558962  -0.72341925 -0.91986621 ... -0.8819171  -0.67419986\n",
      "  -2.081666  ]\n",
      " [-0.86633543 -0.72341925 -0.91986621 ... -0.8819171  -0.67419986\n",
      "  -2.081666  ]]\n"
     ]
    }
   ],
   "source": [
    "print(X_test)"
   ]
  },
  {
   "cell_type": "code",
   "execution_count": null,
   "id": "454100d1",
   "metadata": {},
   "outputs": [
    {
     "data": {
      "text/plain": [
       "(48, 8)"
      ]
     },
     "execution_count": 32,
     "metadata": {},
     "output_type": "execute_result"
    }
   ],
   "source": [
    "X_train.shape[1]"
   ]
  },
  {
   "cell_type": "code",
   "execution_count": 19,
   "id": "9b7772e8",
   "metadata": {},
   "outputs": [],
   "source": [
    "# Build the model layers Mlps Multilayer preception \n",
    "inner_layer = tf.keras.layers.Dense(64, activation='relu', input_shape = (X_train.shape[1],))\n",
    "hidden_layer = tf.keras.layers.Dense(32, activation='relu')\n",
    "output_layer = tf.keras.layers.Dense(1) # output layer for regression problem"
   ]
  },
  {
   "cell_type": "code",
   "execution_count": 20,
   "id": "7811e9e0",
   "metadata": {},
   "outputs": [],
   "source": [
    "# Rap this layers in a model\n",
    "model = tf.keras.models.Sequential([inner_layer,\n",
    "                                    hidden_layer,\n",
    "                                    output_layer])"
   ]
  },
  {
   "cell_type": "code",
   "execution_count": 21,
   "id": "c553ff7f",
   "metadata": {},
   "outputs": [],
   "source": [
    "# setings the rule how to train the model\n",
    "model.compile(optimizer = 'adam', loss = 'mean_squared_error', metrics = ['mae']) # optimizer is tells that how to optimize the model means how to upgrade the model weights, loss tells that from which thing is reduce during the traing time , metrics tells that, metrics is used to tell the model how we want measure the accuracy of the model"
   ]
  },
  {
   "cell_type": "markdown",
   "id": "e033f480",
   "metadata": {},
   "source": [
    "IT IS THE ADDITIONAL STEP TO STOP THE MODEL TRAINING IF THE WEIGHTS ARE NOT UPDATE AFTER SOME STEPS THEN WE STOPS THE MODEL TRAINING"
   ]
  },
  {
   "cell_type": "code",
   "execution_count": 22,
   "id": "704dbf02",
   "metadata": {},
   "outputs": [],
   "source": [
    "from keras.callbacks import EarlyStopping\n",
    "\n",
    "stop = EarlyStopping(patience=10) # it tells the model during the training time if our model is not rduce their loss or increase the accuracy then stops the treaining after 10 steps "
   ]
  },
  {
   "cell_type": "code",
   "execution_count": null,
   "id": "5d563f96",
   "metadata": {},
   "outputs": [
    {
     "name": "stdout",
     "output_type": "stream",
     "text": [
      "Epoch 1/50\n",
      "\u001b[1m2/2\u001b[0m \u001b[32m━━━━━━━━━━━━━━━━━━━━\u001b[0m\u001b[37m\u001b[0m \u001b[1m1s\u001b[0m 206ms/step - loss: 9.4022 - mae: 2.7480 - val_loss: 8.3502 - val_mae: 2.6022\n",
      "Epoch 2/50\n",
      "\u001b[1m2/2\u001b[0m \u001b[32m━━━━━━━━━━━━━━━━━━━━\u001b[0m\u001b[37m\u001b[0m \u001b[1m0s\u001b[0m 37ms/step - loss: 8.9800 - mae: 2.6520 - val_loss: 7.6763 - val_mae: 2.4722\n",
      "Epoch 3/50\n",
      "\u001b[1m2/2\u001b[0m \u001b[32m━━━━━━━━━━━━━━━━━━━━\u001b[0m\u001b[37m\u001b[0m \u001b[1m0s\u001b[0m 38ms/step - loss: 8.0329 - mae: 2.4802 - val_loss: 7.0379 - val_mae: 2.3420\n",
      "Epoch 4/50\n",
      "\u001b[1m2/2\u001b[0m \u001b[32m━━━━━━━━━━━━━━━━━━━━\u001b[0m\u001b[37m\u001b[0m \u001b[1m0s\u001b[0m 37ms/step - loss: 8.0114 - mae: 2.4170 - val_loss: 6.4322 - val_mae: 2.2107\n",
      "Epoch 5/50\n",
      "\u001b[1m2/2\u001b[0m \u001b[32m━━━━━━━━━━━━━━━━━━━━\u001b[0m\u001b[37m\u001b[0m \u001b[1m0s\u001b[0m 36ms/step - loss: 7.6096 - mae: 2.3595 - val_loss: 5.8649 - val_mae: 2.0796\n",
      "Epoch 6/50\n",
      "\u001b[1m2/2\u001b[0m \u001b[32m━━━━━━━━━━━━━━━━━━━━\u001b[0m\u001b[37m\u001b[0m \u001b[1m0s\u001b[0m 34ms/step - loss: 6.3795 - mae: 2.1114 - val_loss: 5.3324 - val_mae: 1.9491\n",
      "Epoch 7/50\n",
      "\u001b[1m2/2\u001b[0m \u001b[32m━━━━━━━━━━━━━━━━━━━━\u001b[0m\u001b[37m\u001b[0m \u001b[1m0s\u001b[0m 37ms/step - loss: 5.6728 - mae: 1.9682 - val_loss: 4.8280 - val_mae: 1.8194\n",
      "Epoch 8/50\n",
      "\u001b[1m2/2\u001b[0m \u001b[32m━━━━━━━━━━━━━━━━━━━━\u001b[0m\u001b[37m\u001b[0m \u001b[1m0s\u001b[0m 37ms/step - loss: 6.1911 - mae: 1.9945 - val_loss: 4.3531 - val_mae: 1.6916\n",
      "Epoch 9/50\n",
      "\u001b[1m2/2\u001b[0m \u001b[32m━━━━━━━━━━━━━━━━━━━━\u001b[0m\u001b[37m\u001b[0m \u001b[1m0s\u001b[0m 42ms/step - loss: 5.2536 - mae: 1.8233 - val_loss: 3.9165 - val_mae: 1.5717\n",
      "Epoch 10/50\n",
      "\u001b[1m2/2\u001b[0m \u001b[32m━━━━━━━━━━━━━━━━━━━━\u001b[0m\u001b[37m\u001b[0m \u001b[1m0s\u001b[0m 42ms/step - loss: 4.4498 - mae: 1.6723 - val_loss: 3.5157 - val_mae: 1.4604\n",
      "Epoch 11/50\n",
      "\u001b[1m2/2\u001b[0m \u001b[32m━━━━━━━━━━━━━━━━━━━━\u001b[0m\u001b[37m\u001b[0m \u001b[1m0s\u001b[0m 38ms/step - loss: 4.3088 - mae: 1.6121 - val_loss: 3.1479 - val_mae: 1.3565\n",
      "Epoch 12/50\n",
      "\u001b[1m2/2\u001b[0m \u001b[32m━━━━━━━━━━━━━━━━━━━━\u001b[0m\u001b[37m\u001b[0m \u001b[1m0s\u001b[0m 41ms/step - loss: 3.8331 - mae: 1.4640 - val_loss: 2.8142 - val_mae: 1.2694\n",
      "Epoch 13/50\n",
      "\u001b[1m2/2\u001b[0m \u001b[32m━━━━━━━━━━━━━━━━━━━━\u001b[0m\u001b[37m\u001b[0m \u001b[1m0s\u001b[0m 41ms/step - loss: 3.5691 - mae: 1.3842 - val_loss: 2.5175 - val_mae: 1.1908\n",
      "Epoch 14/50\n",
      "\u001b[1m2/2\u001b[0m \u001b[32m━━━━━━━━━━━━━━━━━━━━\u001b[0m\u001b[37m\u001b[0m \u001b[1m0s\u001b[0m 40ms/step - loss: 3.5350 - mae: 1.3851 - val_loss: 2.2604 - val_mae: 1.1238\n",
      "Epoch 15/50\n",
      "\u001b[1m2/2\u001b[0m \u001b[32m━━━━━━━━━━━━━━━━━━━━\u001b[0m\u001b[37m\u001b[0m \u001b[1m0s\u001b[0m 55ms/step - loss: 3.2802 - mae: 1.3784 - val_loss: 2.0480 - val_mae: 1.0698\n",
      "Epoch 16/50\n",
      "\u001b[1m2/2\u001b[0m \u001b[32m━━━━━━━━━━━━━━━━━━━━\u001b[0m\u001b[37m\u001b[0m \u001b[1m0s\u001b[0m 38ms/step - loss: 2.5953 - mae: 1.2206 - val_loss: 1.8780 - val_mae: 1.0278\n",
      "Epoch 17/50\n",
      "\u001b[1m2/2\u001b[0m \u001b[32m━━━━━━━━━━━━━━━━━━━━\u001b[0m\u001b[37m\u001b[0m \u001b[1m0s\u001b[0m 39ms/step - loss: 2.3769 - mae: 1.2018 - val_loss: 1.7416 - val_mae: 0.9960\n",
      "Epoch 18/50\n",
      "\u001b[1m2/2\u001b[0m \u001b[32m━━━━━━━━━━━━━━━━━━━━\u001b[0m\u001b[37m\u001b[0m \u001b[1m0s\u001b[0m 36ms/step - loss: 2.6039 - mae: 1.2364 - val_loss: 1.6377 - val_mae: 0.9770\n",
      "Epoch 19/50\n",
      "\u001b[1m2/2\u001b[0m \u001b[32m━━━━━━━━━━━━━━━━━━━━\u001b[0m\u001b[37m\u001b[0m \u001b[1m0s\u001b[0m 37ms/step - loss: 2.5559 - mae: 1.2666 - val_loss: 1.5622 - val_mae: 0.9668\n",
      "Epoch 20/50\n",
      "\u001b[1m2/2\u001b[0m \u001b[32m━━━━━━━━━━━━━━━━━━━━\u001b[0m\u001b[37m\u001b[0m \u001b[1m0s\u001b[0m 43ms/step - loss: 2.3387 - mae: 1.2047 - val_loss: 1.5087 - val_mae: 0.9596\n",
      "Epoch 21/50\n",
      "\u001b[1m2/2\u001b[0m \u001b[32m━━━━━━━━━━━━━━━━━━━━\u001b[0m\u001b[37m\u001b[0m \u001b[1m0s\u001b[0m 43ms/step - loss: 2.0452 - mae: 1.1268 - val_loss: 1.4713 - val_mae: 0.9551\n",
      "Epoch 22/50\n",
      "\u001b[1m2/2\u001b[0m \u001b[32m━━━━━━━━━━━━━━━━━━━━\u001b[0m\u001b[37m\u001b[0m \u001b[1m0s\u001b[0m 37ms/step - loss: 1.8950 - mae: 1.0968 - val_loss: 1.4455 - val_mae: 0.9509\n",
      "Epoch 23/50\n",
      "\u001b[1m2/2\u001b[0m \u001b[32m━━━━━━━━━━━━━━━━━━━━\u001b[0m\u001b[37m\u001b[0m \u001b[1m0s\u001b[0m 41ms/step - loss: 1.7776 - mae: 1.0820 - val_loss: 1.4226 - val_mae: 0.9456\n",
      "Epoch 24/50\n",
      "\u001b[1m2/2\u001b[0m \u001b[32m━━━━━━━━━━━━━━━━━━━━\u001b[0m\u001b[37m\u001b[0m \u001b[1m0s\u001b[0m 36ms/step - loss: 1.9385 - mae: 1.1272 - val_loss: 1.4019 - val_mae: 0.9419\n",
      "Epoch 25/50\n",
      "\u001b[1m2/2\u001b[0m \u001b[32m━━━━━━━━━━━━━━━━━━━━\u001b[0m\u001b[37m\u001b[0m \u001b[1m0s\u001b[0m 42ms/step - loss: 1.9467 - mae: 1.1135 - val_loss: 1.3830 - val_mae: 0.9376\n",
      "Epoch 26/50\n",
      "\u001b[1m2/2\u001b[0m \u001b[32m━━━━━━━━━━━━━━━━━━━━\u001b[0m\u001b[37m\u001b[0m \u001b[1m0s\u001b[0m 40ms/step - loss: 1.7966 - mae: 1.0681 - val_loss: 1.3643 - val_mae: 0.9314\n",
      "Epoch 27/50\n",
      "\u001b[1m2/2\u001b[0m \u001b[32m━━━━━━━━━━━━━━━━━━━━\u001b[0m\u001b[37m\u001b[0m \u001b[1m0s\u001b[0m 40ms/step - loss: 1.7891 - mae: 1.0645 - val_loss: 1.3389 - val_mae: 0.9212\n",
      "Epoch 28/50\n",
      "\u001b[1m2/2\u001b[0m \u001b[32m━━━━━━━━━━━━━━━━━━━━\u001b[0m\u001b[37m\u001b[0m \u001b[1m0s\u001b[0m 44ms/step - loss: 1.6541 - mae: 1.0458 - val_loss: 1.3144 - val_mae: 0.9116\n",
      "Epoch 29/50\n",
      "\u001b[1m2/2\u001b[0m \u001b[32m━━━━━━━━━━━━━━━━━━━━\u001b[0m\u001b[37m\u001b[0m \u001b[1m0s\u001b[0m 42ms/step - loss: 1.6952 - mae: 1.0529 - val_loss: 1.2940 - val_mae: 0.9030\n",
      "Epoch 30/50\n",
      "\u001b[1m2/2\u001b[0m \u001b[32m━━━━━━━━━━━━━━━━━━━━\u001b[0m\u001b[37m\u001b[0m \u001b[1m0s\u001b[0m 48ms/step - loss: 1.7295 - mae: 1.0523 - val_loss: 1.2747 - val_mae: 0.8930\n",
      "Epoch 31/50\n",
      "\u001b[1m2/2\u001b[0m \u001b[32m━━━━━━━━━━━━━━━━━━━━\u001b[0m\u001b[37m\u001b[0m \u001b[1m0s\u001b[0m 40ms/step - loss: 1.5761 - mae: 0.9779 - val_loss: 1.2554 - val_mae: 0.8830\n",
      "Epoch 32/50\n",
      "\u001b[1m2/2\u001b[0m \u001b[32m━━━━━━━━━━━━━━━━━━━━\u001b[0m\u001b[37m\u001b[0m \u001b[1m0s\u001b[0m 41ms/step - loss: 1.6280 - mae: 1.0119 - val_loss: 1.2371 - val_mae: 0.8727\n",
      "Epoch 33/50\n",
      "\u001b[1m2/2\u001b[0m \u001b[32m━━━━━━━━━━━━━━━━━━━━\u001b[0m\u001b[37m\u001b[0m \u001b[1m0s\u001b[0m 48ms/step - loss: 1.5591 - mae: 0.9901 - val_loss: 1.2225 - val_mae: 0.8644\n",
      "Epoch 34/50\n",
      "\u001b[1m2/2\u001b[0m \u001b[32m━━━━━━━━━━━━━━━━━━━━\u001b[0m\u001b[37m\u001b[0m \u001b[1m0s\u001b[0m 39ms/step - loss: 1.5431 - mae: 0.9717 - val_loss: 1.2111 - val_mae: 0.8580\n",
      "Epoch 35/50\n",
      "\u001b[1m2/2\u001b[0m \u001b[32m━━━━━━━━━━━━━━━━━━━━\u001b[0m\u001b[37m\u001b[0m \u001b[1m0s\u001b[0m 41ms/step - loss: 1.4442 - mae: 0.9412 - val_loss: 1.2023 - val_mae: 0.8521\n",
      "Epoch 36/50\n",
      "\u001b[1m2/2\u001b[0m \u001b[32m━━━━━━━━━━━━━━━━━━━━\u001b[0m\u001b[37m\u001b[0m \u001b[1m0s\u001b[0m 40ms/step - loss: 1.5546 - mae: 0.9737 - val_loss: 1.1976 - val_mae: 0.8486\n",
      "Epoch 37/50\n",
      "\u001b[1m2/2\u001b[0m \u001b[32m━━━━━━━━━━━━━━━━━━━━\u001b[0m\u001b[37m\u001b[0m \u001b[1m0s\u001b[0m 38ms/step - loss: 1.4692 - mae: 0.9480 - val_loss: 1.1949 - val_mae: 0.8456\n",
      "Epoch 38/50\n",
      "\u001b[1m2/2\u001b[0m \u001b[32m━━━━━━━━━━━━━━━━━━━━\u001b[0m\u001b[37m\u001b[0m \u001b[1m0s\u001b[0m 47ms/step - loss: 1.4665 - mae: 0.9397 - val_loss: 1.1948 - val_mae: 0.8441\n",
      "Epoch 39/50\n",
      "\u001b[1m2/2\u001b[0m \u001b[32m━━━━━━━━━━━━━━━━━━━━\u001b[0m\u001b[37m\u001b[0m \u001b[1m0s\u001b[0m 42ms/step - loss: 1.5149 - mae: 0.9642 - val_loss: 1.1957 - val_mae: 0.8435\n",
      "Epoch 40/50\n",
      "\u001b[1m2/2\u001b[0m \u001b[32m━━━━━━━━━━━━━━━━━━━━\u001b[0m\u001b[37m\u001b[0m \u001b[1m0s\u001b[0m 43ms/step - loss: 1.5115 - mae: 0.9489 - val_loss: 1.1978 - val_mae: 0.8441\n",
      "Epoch 41/50\n",
      "\u001b[1m2/2\u001b[0m \u001b[32m━━━━━━━━━━━━━━━━━━━━\u001b[0m\u001b[37m\u001b[0m \u001b[1m0s\u001b[0m 39ms/step - loss: 1.4571 - mae: 0.9473 - val_loss: 1.1989 - val_mae: 0.8450\n",
      "Epoch 42/50\n",
      "\u001b[1m2/2\u001b[0m \u001b[32m━━━━━━━━━━━━━━━━━━━━\u001b[0m\u001b[37m\u001b[0m \u001b[1m0s\u001b[0m 42ms/step - loss: 1.4710 - mae: 0.9429 - val_loss: 1.1996 - val_mae: 0.8462\n",
      "Epoch 43/50\n",
      "\u001b[1m2/2\u001b[0m \u001b[32m━━━━━━━━━━━━━━━━━━━━\u001b[0m\u001b[37m\u001b[0m \u001b[1m0s\u001b[0m 244ms/step - loss: 1.4801 - mae: 0.9544 - val_loss: 1.2004 - val_mae: 0.8478\n",
      "Epoch 44/50\n",
      "\u001b[1m2/2\u001b[0m \u001b[32m━━━━━━━━━━━━━━━━━━━━\u001b[0m\u001b[37m\u001b[0m \u001b[1m1s\u001b[0m 364ms/step - loss: 1.3764 - mae: 0.9138 - val_loss: 1.2023 - val_mae: 0.8508\n",
      "Epoch 45/50\n",
      "\u001b[1m2/2\u001b[0m \u001b[32m━━━━━━━━━━━━━━━━━━━━\u001b[0m\u001b[37m\u001b[0m \u001b[1m0s\u001b[0m 119ms/step - loss: 1.3522 - mae: 0.9144 - val_loss: 1.2055 - val_mae: 0.8551\n",
      "Epoch 46/50\n",
      "\u001b[1m2/2\u001b[0m \u001b[32m━━━━━━━━━━━━━━━━━━━━\u001b[0m\u001b[37m\u001b[0m \u001b[1m0s\u001b[0m 99ms/step - loss: 1.3971 - mae: 0.9160 - val_loss: 1.2099 - val_mae: 0.8606\n",
      "Epoch 47/50\n",
      "\u001b[1m2/2\u001b[0m \u001b[32m━━━━━━━━━━━━━━━━━━━━\u001b[0m\u001b[37m\u001b[0m \u001b[1m0s\u001b[0m 98ms/step - loss: 1.2607 - mae: 0.8787 - val_loss: 1.2150 - val_mae: 0.8662\n",
      "Epoch 48/50\n",
      "\u001b[1m2/2\u001b[0m \u001b[32m━━━━━━━━━━━━━━━━━━━━\u001b[0m\u001b[37m\u001b[0m \u001b[1m0s\u001b[0m 97ms/step - loss: 1.3502 - mae: 0.8965 - val_loss: 1.2199 - val_mae: 0.8716\n"
     ]
    }
   ],
   "source": [
    "history = model.fit(X_train, y_train, epochs=50, batch_size=32, verbose=1, validation_data=(X_test, y_test), callbacks=[stop])"
   ]
  },
  {
   "cell_type": "code",
   "execution_count": 24,
   "id": "79c5de46",
   "metadata": {},
   "outputs": [
    {
     "name": "stdout",
     "output_type": "stream",
     "text": [
      "\u001b[1m7/7\u001b[0m \u001b[32m━━━━━━━━━━━━━━━━━━━━\u001b[0m\u001b[37m\u001b[0m \u001b[1m0s\u001b[0m 2ms/step - loss: 1.3059 - mae: 0.9198\n",
      "this is the loss of model 1.2199355363845825\n",
      "this is the method to check how much your model answer is near to test data 0.8716260194778442\n"
     ]
    }
   ],
   "source": [
    "# check accuracy\n",
    "loss, how_far_prediction = model.evaluate(X_test, y_test, verbose = 1)\n",
    "print(\"this is the loss of model\", loss)\n",
    "print(\"this is the method to check how much your model answer is near to test data\", how_far_prediction)"
   ]
  },
  {
   "cell_type": "code",
   "execution_count": 25,
   "id": "fda4fa48",
   "metadata": {},
   "outputs": [
    {
     "name": "stdout",
     "output_type": "stream",
     "text": [
      "<Sequential name=sequential, built=True>\n"
     ]
    }
   ],
   "source": [
    "print(model)"
   ]
  },
  {
   "cell_type": "code",
   "execution_count": 26,
   "id": "9b725245",
   "metadata": {},
   "outputs": [
    {
     "data": {
      "image/png": "[encoded data removed]",
      "text/plain": [
       "<Figure size 640x480 with 1 Axes>"
      ]
     },
     "metadata": {},
     "output_type": "display_data"
    }
   ],
   "source": [
    "# Shows the model training and testing loss \n",
    "import matplotlib.pyplot as plt\n",
    "\n",
    "plt.plot(history.history['loss'])\n",
    "plt.plot(history.history['val_loss'])\n",
    "plt.title('Model loss')\n",
    "plt.ylabel('Loss')\n",
    "plt.xlabel('Epoch')\n",
    "plt.legend(['Train', 'Validation'], loc = 'upper right')\n",
    "plt.show()"
   ]
  },
  {
   "cell_type": "markdown",
   "id": "ca8eddca",
   "metadata": {},
   "source": [
    "TEST THE MODEL IN NEW DATA"
   ]
  },
  {
   "cell_type": "code",
   "execution_count": 27,
   "id": "f69b31e4",
   "metadata": {},
   "outputs": [],
   "source": [
    "# test this model\n",
    "import numpy as np\n",
    "\n",
    "new_data = pd.DataFrame([{\n",
    "    'total_bill': 20.5,\n",
    "    'size': 2,\n",
    "    'sex_Female': False,   # Male\n",
    "    'smoker_No': True,     # Not a smoker\n",
    "    'day_Fri': False,\n",
    "    'day_Sat': True,\n",
    "    'day_Sun': False,\n",
    "    'time_Dinner': True\n",
    "\n",
    "}])"
   ]
  },
  {
   "cell_type": "code",
   "execution_count": 28,
   "id": "5f557f86",
   "metadata": {},
   "outputs": [
    {
     "name": "stdout",
     "output_type": "stream",
     "text": [
      "   total_bill  size  sex_Female  smoker_No  day_Fri  day_Sat  day_Sun  \\\n",
      "0        20.5     2       False       True    False     True    False   \n",
      "\n",
      "   time_Dinner  \n",
      "0         True  \n"
     ]
    }
   ],
   "source": [
    "print(new_data)"
   ]
  },
  {
   "cell_type": "code",
   "execution_count": null,
   "id": "e22f965f",
   "metadata": {},
   "outputs": [],
   "source": [
    "# Use the same scaler used in training\n",
    "new_data_scaled = scaler.transform(new_data) # it can transfrom this data into the numeric form (encode) in the bases of the first fit_transform"
   ]
  },
  {
   "cell_type": "code",
   "execution_count": 30,
   "id": "2ca96175",
   "metadata": {},
   "outputs": [
    {
     "name": "stdout",
     "output_type": "stream",
     "text": [
      "[[ 2.05000000e+01  2.00000000e+00 -1.66533454e-16  1.00000000e+00\n",
      "  -1.85037171e-17  1.00000000e+00 -6.01370805e-17  1.00000000e+00]]\n"
     ]
    }
   ],
   "source": [
    "print(new_data_scaled)"
   ]
  },
  {
   "cell_type": "code",
   "execution_count": 31,
   "id": "ce66dc8e",
   "metadata": {},
   "outputs": [
    {
     "name": "stdout",
     "output_type": "stream",
     "text": [
      "\u001b[1m1/1\u001b[0m \u001b[32m━━━━━━━━━━━━━━━━━━━━\u001b[0m\u001b[37m\u001b[0m \u001b[1m0s\u001b[0m 67ms/step\n",
      "Predicted Tip: $28.85\n"
     ]
    }
   ],
   "source": [
    "predicted_tip = model.predict(new_data_scaled)\n",
    "print(f\"Predicted Tip: ${predicted_tip[0][0]:.2f}\")"
   ]
  }
 ],
 "metadata": {
  "kernelspec": {
   "display_name": "tf_env",
   "language": "python",
   "name": "python3"
  },
  "language_info": {
   "codemirror_mode": {
    "name": "ipython",
    "version": 3
   },
   "file_extension": ".py",
   "mimetype": "text/x-python",
   "name": "python",
   "nbconvert_exporter": "python",
   "pygments_lexer": "ipython3",
   "version": "3.11.13"
  }
 },
 "nbformat": 4,
 "nbformat_minor": 5
}
